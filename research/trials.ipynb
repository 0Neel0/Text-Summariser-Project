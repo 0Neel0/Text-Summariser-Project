{
 "cells": [
  {
   "cell_type": "code",
   "execution_count": 5,
   "id": "02571136",
   "metadata": {},
   "outputs": [],
   "source": [
    "d={\"key\":\"value\",\"keys\":\"value1\"}"
   ]
  },
  {
   "cell_type": "code",
   "execution_count": 6,
   "id": "b2a03b0e",
   "metadata": {},
   "outputs": [
    {
     "data": {
      "text/plain": [
       "'value'"
      ]
     },
     "execution_count": 6,
     "metadata": {},
     "output_type": "execute_result"
    }
   ],
   "source": [
    "d['key']"
   ]
  },
  {
   "cell_type": "code",
   "execution_count": 7,
   "id": "cd73ff87",
   "metadata": {},
   "outputs": [
    {
     "name": "stdout",
     "output_type": "stream",
     "text": [
      "Requirement already satisfied: python-box in d:\\anaconda\\envs\\texts\\lib\\site-packages (7.2.0)\n",
      "Note: you may need to restart the kernel to use updated packages.\n"
     ]
    }
   ],
   "source": [
    "%pip install python-box"
   ]
  },
  {
   "cell_type": "code",
   "execution_count": 10,
   "id": "17621520",
   "metadata": {},
   "outputs": [],
   "source": [
    "from box import Box"
   ]
  },
  {
   "cell_type": "code",
   "execution_count": 12,
   "id": "00c67235",
   "metadata": {},
   "outputs": [
    {
     "name": "stdout",
     "output_type": "stream",
     "text": [
      "Collecting simple-parsing\n",
      "  Downloading simple_parsing-0.1.7-py3-none-any.whl.metadata (7.3 kB)\n",
      "Collecting docstring-parser<1.0,>=0.15 (from simple-parsing)\n",
      "  Downloading docstring_parser-0.16-py3-none-any.whl.metadata (3.0 kB)\n",
      "Requirement already satisfied: typing-extensions>=4.5.0 in d:\\anaconda\\envs\\texts\\lib\\site-packages (from simple-parsing) (4.12.2)\n",
      "Downloading simple_parsing-0.1.7-py3-none-any.whl (112 kB)\n",
      "Downloading docstring_parser-0.16-py3-none-any.whl (36 kB)\n",
      "Installing collected packages: docstring-parser, simple-parsing\n",
      "Successfully installed docstring-parser-0.16 simple-parsing-0.1.7\n",
      "Note: you may need to restart the kernel to use updated packages.\n"
     ]
    }
   ],
   "source": [
    "%pip install simple-parsing\n",
    "\n",
    "# d2=Configbox({\"key\":\"value\",\"keys\":\"value1\"})"
   ]
  }
 ],
 "metadata": {
  "kernelspec": {
   "display_name": "textS",
   "language": "python",
   "name": "python3"
  },
  "language_info": {
   "codemirror_mode": {
    "name": "ipython",
    "version": 3
   },
   "file_extension": ".py",
   "mimetype": "text/x-python",
   "name": "python",
   "nbconvert_exporter": "python",
   "pygments_lexer": "ipython3",
   "version": "3.8.20"
  }
 },
 "nbformat": 4,
 "nbformat_minor": 5
}
